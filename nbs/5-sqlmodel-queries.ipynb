{
 "cells": [
  {
   "cell_type": "code",
   "execution_count": 1,
   "metadata": {},
   "outputs": [],
   "source": [
    "import sys\n",
    "from pathlib import Path"
   ]
  },
  {
   "cell_type": "code",
   "execution_count": 5,
   "metadata": {},
   "outputs": [],
   "source": [
    "src_path = Path(\"../src\").resolve()\n",
    "sys.path.append(str(src_path))"
   ]
  },
  {
   "cell_type": "code",
   "execution_count": 9,
   "metadata": {},
   "outputs": [],
   "source": [
    "from sqlmodel import Session, select\n",
    "from api.db.session import engine\n",
    "from api.events.models import EventModel\n",
    "from timescaledb.hyperfunctions import time_bucket\n",
    "from pprint import pprint"
   ]
  },
  {
   "cell_type": "code",
   "execution_count": 36,
   "metadata": {},
   "outputs": [
    {
     "name": "stdout",
     "output_type": "stream",
     "text": [
      "SELECT eventmodel.id, eventmodel.time, eventmodel.page, eventmodel.description, eventmodel.updated_at \n",
      "FROM eventmodel ORDER BY eventmodel.updated_at ASC\n",
      " LIMIT 10\n",
      "\n",
      "SELECT eventmodel.id, eventmodel.time, eventmodel.page, eventmodel.description, eventmodel.updated_at \n",
      "FROM eventmodel ORDER BY eventmodel.updated_at ASC\n",
      " LIMIT :param_1\n",
      "[EventModel(description='', time=datetime.datetime(2025, 3, 21, 17, 0, 14, 793459, tzinfo=datetime.timezone.utc), id=1, updated_at=datetime.datetime(2025, 3, 21, 17, 0, 14, 793466, tzinfo=datetime.timezone.utc), page='pricing'),\n",
      " EventModel(description='', time=datetime.datetime(2025, 3, 21, 17, 0, 14, 808389, tzinfo=datetime.timezone.utc), id=2, updated_at=datetime.datetime(2025, 3, 21, 17, 0, 14, 808394, tzinfo=datetime.timezone.utc), page='/about'),\n",
      " EventModel(description='', time=datetime.datetime(2025, 3, 21, 17, 0, 14, 813534, tzinfo=datetime.timezone.utc), id=3, updated_at=datetime.datetime(2025, 3, 21, 17, 0, 14, 813538, tzinfo=datetime.timezone.utc), page='/pages'),\n",
      " EventModel(description='', time=datetime.datetime(2025, 3, 21, 17, 0, 14, 817216, tzinfo=datetime.timezone.utc), id=4, updated_at=datetime.datetime(2025, 3, 21, 17, 0, 14, 817220, tzinfo=datetime.timezone.utc), page='/pages'),\n",
      " EventModel(description='', time=datetime.datetime(2025, 3, 21, 17, 0, 14, 821088, tzinfo=datetime.timezone.utc), id=5, updated_at=datetime.datetime(2025, 3, 21, 17, 0, 14, 821091, tzinfo=datetime.timezone.utc), page='/pages'),\n",
      " EventModel(description='', time=datetime.datetime(2025, 3, 21, 17, 0, 14, 824306, tzinfo=datetime.timezone.utc), id=6, updated_at=datetime.datetime(2025, 3, 21, 17, 0, 14, 824310, tzinfo=datetime.timezone.utc), page='pricing'),\n",
      " EventModel(description='', time=datetime.datetime(2025, 3, 21, 17, 0, 14, 828504, tzinfo=datetime.timezone.utc), id=7, updated_at=datetime.datetime(2025, 3, 21, 17, 0, 14, 828508, tzinfo=datetime.timezone.utc), page='/contact'),\n",
      " EventModel(description='', time=datetime.datetime(2025, 3, 21, 17, 0, 14, 832459, tzinfo=datetime.timezone.utc), id=8, updated_at=datetime.datetime(2025, 3, 21, 17, 0, 14, 832464, tzinfo=datetime.timezone.utc), page='pricing'),\n",
      " EventModel(description='', time=datetime.datetime(2025, 3, 21, 17, 0, 14, 836619, tzinfo=datetime.timezone.utc), id=9, updated_at=datetime.datetime(2025, 3, 21, 17, 0, 14, 836623, tzinfo=datetime.timezone.utc), page='pricing'),\n",
      " EventModel(description='', time=datetime.datetime(2025, 3, 21, 17, 0, 14, 840383, tzinfo=datetime.timezone.utc), id=10, updated_at=datetime.datetime(2025, 3, 21, 17, 0, 14, 840387, tzinfo=datetime.timezone.utc), page='/about')]\n"
     ]
    }
   ],
   "source": [
    "with Session(engine) as session:\n",
    "    query = select(EventModel).order_by(EventModel.updated_at.asc()).limit(10)\n",
    "    compiled_query = query.compile(compile_kwargs={\"literal_binds\": True})\n",
    "    print(compiled_query)\n",
    "    print(\"\")\n",
    "    print(str(query))\n",
    "    results = session.exec(query).fetchall()\n",
    "    pprint(results)"
   ]
  },
  {
   "cell_type": "code",
   "execution_count": null,
   "metadata": {},
   "outputs": [
    {
     "name": "stdout",
     "output_type": "stream",
     "text": [
      "SELECT time_bucket('1 day'::interval, eventmodel.time) AS time_bucket_1, eventmodel.page, count(*) AS count_1 \n",
      "FROM eventmodel \n",
      "WHERE eventmodel.time > '2025-03-21 17:12:27.563396+00:00' AND eventmodel.time <= '2025-03-21 19:12:27.563402+00:00' AND eventmodel.page IN ('/about', '/contact', '/pages', '/pricing') GROUP BY time_bucket('1 day'::interval, eventmodel.time), eventmodel.page ORDER BY time_bucket('1 day'::interval, eventmodel.time), eventmodel.page\n"
     ]
    }
   ],
   "source": [
    "from sqlalchemy import func\n",
    "from datetime import datetime, timedelta, timezone\n",
    "\n",
    "with Session(engine) as session:\n",
    "    bucket = time_bucket(\"1 day\", EventModel.time)\n",
    "    pages = ['/about', '/contact', '/pages', '/pricing']\n",
    "    start = datetime.now(timezone.utc) - timedelta(hours=1)\n",
    "    finish = datetime.now(timezone.utc) + timedelta(hours=1)\n",
    "    query = (\n",
    "        select(\n",
    "            bucket,\n",
    "            EventModel.page,\n",
    "            func.count()\n",
    "        )\n",
    "        .where(\n",
    "            EventModel.time > start,\n",
    "            EventModel.time <= finish,\n",
    "            EventModel.page.in_(pages)\n",
    "        )\n",
    "        .group_by(\n",
    "            bucket,\n",
    "            EventModel.page,\n",
    "        )\n",
    "        .order_by(\n",
    "            bucket,\n",
    "            EventModel.page,\n",
    "        )\n",
    "    )\n",
    "    compiled_query = query.compile(compile_kwargs={\"literal_binds\": True})\n",
    "    # print(compiled_query)\n",
    "    results = session.exec(query).fetchall()\n",
    "    pprint(results)"
   ]
  },
  {
   "cell_type": "code",
   "execution_count": null,
   "metadata": {},
   "outputs": [],
   "source": []
  }
 ],
 "metadata": {
  "kernelspec": {
   "display_name": "venv",
   "language": "python",
   "name": "python3"
  },
  "language_info": {
   "codemirror_mode": {
    "name": "ipython",
    "version": 3
   },
   "file_extension": ".py",
   "mimetype": "text/x-python",
   "name": "python",
   "nbconvert_exporter": "python",
   "pygments_lexer": "ipython3",
   "version": "3.13.2"
  }
 },
 "nbformat": 4,
 "nbformat_minor": 2
}
